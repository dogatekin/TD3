{
 "cells": [
  {
   "cell_type": "code",
   "execution_count": 20,
   "metadata": {},
   "outputs": [],
   "source": [
    "import numpy as np\n",
    "import pandas as pd\n",
    "import matplotlib.pyplot as plt\n",
    "import seaborn as sns\n",
    "import os\n",
    "sns.set()  # cool seaborn style plots"
   ]
  },
  {
   "cell_type": "markdown",
   "metadata": {},
   "source": [
    "Path for the saved results:"
   ]
  },
  {
   "cell_type": "code",
   "execution_count": 2,
   "metadata": {},
   "outputs": [],
   "source": [
    "path = './results/'"
   ]
  },
  {
   "cell_type": "markdown",
   "metadata": {},
   "source": [
    "Look at saved results:"
   ]
  },
  {
   "cell_type": "code",
   "execution_count": 4,
   "metadata": {},
   "outputs": [
    {
     "data": {
      "text/plain": [
       "['.DS_Store',\n",
       " 'DDPG_Pendulum-v0_4.npy',\n",
       " 'DDPG_Pendulum-v0_1.npy',\n",
       " 'DDPG_Pendulum-v0_0.npy',\n",
       " 'DDPG_Pendulum-v0_2.npy',\n",
       " 'DDPG_Pendulum-v0_3.npy',\n",
       " 'TD3_Pendulum-v0_1.npy',\n",
       " 'TD3_Pendulum-v0_0.npy',\n",
       " 'TD3_Pendulum-v0_2.npy',\n",
       " 'TD3_Pendulum-v0_3.npy',\n",
       " 'TD3_Pendulum-v0_4.npy']"
      ]
     },
     "execution_count": 4,
     "metadata": {},
     "output_type": "execute_result"
    }
   ],
   "source": [
    "os.listdir(path)"
   ]
  },
  {
   "cell_type": "markdown",
   "metadata": {},
   "source": [
    "Load saved results:"
   ]
  },
  {
   "cell_type": "code",
   "execution_count": 147,
   "metadata": {},
   "outputs": [],
   "source": [
    "def load_data(path, policy_name, env_name, eval_freq=5000):\n",
    "    data = pd.DataFrame()\n",
    "    filename = f'{policy_name}_{env_name}_'\n",
    "    \n",
    "    # Load matching results from the path\n",
    "    for file in os.listdir(path):\n",
    "        match = file.split(filename,1)\n",
    "        if len(match) > 1:\n",
    "            seed = match[1]\n",
    "            data['Seed ' + seed.split('.')[0]] = np.load(path + filename + seed)\n",
    "    \n",
    "    # Reorder columns according to seed number\n",
    "    data = data.reindex(sorted(data.columns), axis=1)\n",
    "    \n",
    "    # Evaluations were done every eval_freq timesteps\n",
    "    data['Timesteps'] = [eval_freq*i for i in range(len(data))]\n",
    "\n",
    "    # Put Timesteps column at the beginning\n",
    "    data = data[data.columns.tolist()[-1:] + data.columns.tolist()[:-1]]\n",
    "\n",
    "    # Store name of the policy for plotting later\n",
    "    data.policy_name = policy_name\n",
    "    \n",
    "    return data"
   ]
  },
  {
   "cell_type": "code",
   "execution_count": 179,
   "metadata": {},
   "outputs": [
    {
     "data": {
      "text/html": [
       "<div>\n",
       "<style scoped>\n",
       "    .dataframe tbody tr th:only-of-type {\n",
       "        vertical-align: middle;\n",
       "    }\n",
       "\n",
       "    .dataframe tbody tr th {\n",
       "        vertical-align: top;\n",
       "    }\n",
       "\n",
       "    .dataframe thead th {\n",
       "        text-align: right;\n",
       "    }\n",
       "</style>\n",
       "<table border=\"1\" class=\"dataframe\">\n",
       "  <thead>\n",
       "    <tr style=\"text-align: right;\">\n",
       "      <th></th>\n",
       "      <th>Timesteps</th>\n",
       "      <th>Seed 0</th>\n",
       "      <th>Seed 1</th>\n",
       "      <th>Seed 2</th>\n",
       "      <th>Seed 3</th>\n",
       "      <th>Seed 4</th>\n",
       "    </tr>\n",
       "  </thead>\n",
       "  <tbody>\n",
       "    <tr>\n",
       "      <th>0</th>\n",
       "      <td>0</td>\n",
       "      <td>-1399.782267</td>\n",
       "      <td>-1536.450477</td>\n",
       "      <td>-1346.460704</td>\n",
       "      <td>-1347.809780</td>\n",
       "      <td>-1264.911208</td>\n",
       "    </tr>\n",
       "    <tr>\n",
       "      <th>1</th>\n",
       "      <td>5000</td>\n",
       "      <td>-159.396204</td>\n",
       "      <td>-135.647720</td>\n",
       "      <td>-504.024494</td>\n",
       "      <td>-150.650137</td>\n",
       "      <td>-172.925173</td>\n",
       "    </tr>\n",
       "    <tr>\n",
       "      <th>2</th>\n",
       "      <td>10000</td>\n",
       "      <td>-108.248175</td>\n",
       "      <td>-192.134597</td>\n",
       "      <td>-114.856841</td>\n",
       "      <td>-160.265576</td>\n",
       "      <td>-133.952847</td>\n",
       "    </tr>\n",
       "    <tr>\n",
       "      <th>3</th>\n",
       "      <td>15000</td>\n",
       "      <td>-157.441292</td>\n",
       "      <td>-106.369427</td>\n",
       "      <td>-144.846682</td>\n",
       "      <td>-155.994022</td>\n",
       "      <td>-243.197944</td>\n",
       "    </tr>\n",
       "    <tr>\n",
       "      <th>4</th>\n",
       "      <td>20000</td>\n",
       "      <td>-132.855321</td>\n",
       "      <td>-191.934228</td>\n",
       "      <td>-151.765908</td>\n",
       "      <td>-133.418071</td>\n",
       "      <td>-175.462793</td>\n",
       "    </tr>\n",
       "  </tbody>\n",
       "</table>\n",
       "</div>"
      ],
      "text/plain": [
       "   Timesteps       Seed 0       Seed 1       Seed 2       Seed 3       Seed 4\n",
       "0          0 -1399.782267 -1536.450477 -1346.460704 -1347.809780 -1264.911208\n",
       "1       5000  -159.396204  -135.647720  -504.024494  -150.650137  -172.925173\n",
       "2      10000  -108.248175  -192.134597  -114.856841  -160.265576  -133.952847\n",
       "3      15000  -157.441292  -106.369427  -144.846682  -155.994022  -243.197944\n",
       "4      20000  -132.855321  -191.934228  -151.765908  -133.418071  -175.462793"
      ]
     },
     "execution_count": 179,
     "metadata": {},
     "output_type": "execute_result"
    }
   ],
   "source": [
    "ddpg = load_data(path, 'DDPG', 'Pendulum-v0')\n",
    "ddpg.head()"
   ]
  },
  {
   "cell_type": "code",
   "execution_count": 180,
   "metadata": {},
   "outputs": [
    {
     "data": {
      "text/html": [
       "<div>\n",
       "<style scoped>\n",
       "    .dataframe tbody tr th:only-of-type {\n",
       "        vertical-align: middle;\n",
       "    }\n",
       "\n",
       "    .dataframe tbody tr th {\n",
       "        vertical-align: top;\n",
       "    }\n",
       "\n",
       "    .dataframe thead th {\n",
       "        text-align: right;\n",
       "    }\n",
       "</style>\n",
       "<table border=\"1\" class=\"dataframe\">\n",
       "  <thead>\n",
       "    <tr style=\"text-align: right;\">\n",
       "      <th></th>\n",
       "      <th>Timesteps</th>\n",
       "      <th>Seed 0</th>\n",
       "      <th>Seed 1</th>\n",
       "      <th>Seed 2</th>\n",
       "      <th>Seed 3</th>\n",
       "      <th>Seed 4</th>\n",
       "    </tr>\n",
       "  </thead>\n",
       "  <tbody>\n",
       "    <tr>\n",
       "      <th>0</th>\n",
       "      <td>0</td>\n",
       "      <td>-1399.782267</td>\n",
       "      <td>-1536.450477</td>\n",
       "      <td>-1346.460704</td>\n",
       "      <td>-1347.809780</td>\n",
       "      <td>-1264.911208</td>\n",
       "    </tr>\n",
       "    <tr>\n",
       "      <th>1</th>\n",
       "      <td>5000</td>\n",
       "      <td>-363.032263</td>\n",
       "      <td>-144.358049</td>\n",
       "      <td>-580.781513</td>\n",
       "      <td>-296.047126</td>\n",
       "      <td>-232.000837</td>\n",
       "    </tr>\n",
       "    <tr>\n",
       "      <th>2</th>\n",
       "      <td>10000</td>\n",
       "      <td>-108.831493</td>\n",
       "      <td>-191.292806</td>\n",
       "      <td>-114.008691</td>\n",
       "      <td>-157.219786</td>\n",
       "      <td>-287.581226</td>\n",
       "    </tr>\n",
       "    <tr>\n",
       "      <th>3</th>\n",
       "      <td>15000</td>\n",
       "      <td>-166.414748</td>\n",
       "      <td>-106.457207</td>\n",
       "      <td>-142.976801</td>\n",
       "      <td>-146.607226</td>\n",
       "      <td>-177.502501</td>\n",
       "    </tr>\n",
       "    <tr>\n",
       "      <th>4</th>\n",
       "      <td>20000</td>\n",
       "      <td>-140.142879</td>\n",
       "      <td>-188.189433</td>\n",
       "      <td>-141.689693</td>\n",
       "      <td>-130.885716</td>\n",
       "      <td>-174.534233</td>\n",
       "    </tr>\n",
       "  </tbody>\n",
       "</table>\n",
       "</div>"
      ],
      "text/plain": [
       "   Timesteps       Seed 0       Seed 1       Seed 2       Seed 3       Seed 4\n",
       "0          0 -1399.782267 -1536.450477 -1346.460704 -1347.809780 -1264.911208\n",
       "1       5000  -363.032263  -144.358049  -580.781513  -296.047126  -232.000837\n",
       "2      10000  -108.831493  -191.292806  -114.008691  -157.219786  -287.581226\n",
       "3      15000  -166.414748  -106.457207  -142.976801  -146.607226  -177.502501\n",
       "4      20000  -140.142879  -188.189433  -141.689693  -130.885716  -174.534233"
      ]
     },
     "execution_count": 180,
     "metadata": {},
     "output_type": "execute_result"
    }
   ],
   "source": [
    "td3 = load_data(path, 'TD3', 'Pendulum-v0')\n",
    "td3.head()"
   ]
  },
  {
   "cell_type": "markdown",
   "metadata": {},
   "source": [
    "Visualize the evaluation returns:"
   ]
  },
  {
   "cell_type": "code",
   "execution_count": 174,
   "metadata": {},
   "outputs": [],
   "source": [
    "def plot_results(*policies):\n",
    "    data = pd.DataFrame()\n",
    "    \n",
    "    for policy in policies:\n",
    "        plotable_policy = policy.melt('Timesteps', var_name='Seeds', value_name='Average Reward')\n",
    "        plotable_policy['Policy'] = policy.policy_name\n",
    "        data = pd.concat([data, plotable_policy])\n",
    "        \n",
    "    sns.relplot(x=\"Timesteps\", y=\"Average Reward\", hue='Policy', data=data, kind='line', aspect=1.5, ci='sd')"
   ]
  },
  {
   "cell_type": "code",
   "execution_count": 178,
   "metadata": {},
   "outputs": [
    {
     "data": {
      "image/png": "[encoded data removed]",
      "text/plain": [
       "<Figure size 611.6x360 with 1 Axes>"
      ]
     },
     "metadata": {},
     "output_type": "display_data"
    }
   ],
   "source": [
    "plot_results(ddpg, td3)"
   ]
  },
  {
   "cell_type": "markdown",
   "metadata": {},
   "source": [
    "---"
   ]
  }
 ],
 "metadata": {
  "kernelspec": {
   "display_name": "Python (Baselines)",
   "language": "python",
   "name": "baselines"
  },
  "language_info": {
   "codemirror_mode": {
    "name": "ipython",
    "version": 3
   },
   "file_extension": ".py",
   "mimetype": "text/x-python",
   "name": "python",
   "nbconvert_exporter": "python",
   "pygments_lexer": "ipython3",
   "version": "3.6.8"
  }
 },
 "nbformat": 4,
 "nbformat_minor": 2
}
